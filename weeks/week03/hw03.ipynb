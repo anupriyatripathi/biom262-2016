{
 "cells": [
  {
   "cell_type": "raw",
   "metadata": {},
   "source": [
    "Answer 1: From previous data, we have evidence that the “C” allele of Nxf1 allowed a higher level of target gene RNA expression than the “B” allele in 6 out of 7 cases. In order to check if this correlation holds true for the 8th gen as well, we need to perform a one-sided test such that the null hypothesis would be:- There is no correlation between Nxf1 allele and expression of 8th gene and alternate hypothesis would be:- \"C\" allele of Nxf1 is correlated with higher expression of 8th gene as compared to \"B\" allele."
   ]
  },
  {
   "cell_type": "raw",
   "metadata": {},
   "source": [
    "Answer 2: To start with, I would test if using the mean of expression level of gene with \"B\" allele of Nxf1 (Ub) and \"C\" allele of Nxf1 (Uc) as my test-statistic is a viable option. This is because the overall increase or decrease in expression can be represented by increase or decrease in  mean in the presence of a particular allele of Nxf1.\n",
    "\n",
    "Null Hypothesis: Ub=Uc \n",
    "Alternate hypothesis: Ub<Uc \n",
    "\n",
    "But, we need to do a shapiro test to see if data is normally distributed."
   ]
  },
  {
   "cell_type": "code",
   "execution_count": 16,
   "metadata": {
    "collapsed": false
   },
   "outputs": [
    {
     "name": "stderr",
     "output_type": "stream",
     "text": [
      "The following objects are masked from b6 (pos = 3):\n",
      "\n",
      "    cohort, id, normal, nxf1, raw\n",
      "\n",
      "The following objects are masked from b6 (pos = 4):\n",
      "\n",
      "    cohort, id, normal, nxf1, raw\n",
      "\n",
      "The following objects are masked from b6 (pos = 5):\n",
      "\n",
      "    cohort, id, normal, nxf1, raw\n",
      "\n",
      "The following objects are masked from b6 (pos = 6):\n",
      "\n",
      "    cohort, id, normal, nxf1, raw\n",
      "\n",
      "The following objects are masked from b6 (pos = 11):\n",
      "\n",
      "    cohort, id, normal, nxf1, raw\n",
      "\n",
      "The following objects are masked from b6 (pos = 12):\n",
      "\n",
      "    cohort, id, normal, nxf1, raw\n",
      "\n"
     ]
    },
    {
     "data": {
      "text/html": [
       "<ol class=list-inline>\n",
       "\t<li>'id'</li>\n",
       "\t<li>'nxf1'</li>\n",
       "\t<li>'raw'</li>\n",
       "\t<li>'normal'</li>\n",
       "\t<li>'cohort'</li>\n",
       "</ol>\n"
      ],
      "text/latex": [
       "\\begin{enumerate*}\n",
       "\\item 'id'\n",
       "\\item 'nxf1'\n",
       "\\item 'raw'\n",
       "\\item 'normal'\n",
       "\\item 'cohort'\n",
       "\\end{enumerate*}\n"
      ],
      "text/markdown": [
       "1. 'id'\n",
       "2. 'nxf1'\n",
       "3. 'raw'\n",
       "4. 'normal'\n",
       "5. 'cohort'\n",
       "\n",
       "\n"
      ],
      "text/plain": [
       "[1] \"id\"     \"nxf1\"   \"raw\"    \"normal\" \"cohort\""
      ]
     },
     "execution_count": 16,
     "metadata": {},
     "output_type": "execute_result"
    },
    {
     "data": {
      "text/plain": [
       "\n",
       "\tShapiro-Wilk normality test\n",
       "\n",
       "data:  normal[nxf1 == \"B\"]\n",
       "W = 0.62231, p-value = 0.0008452\n"
      ]
     },
     "execution_count": 16,
     "metadata": {},
     "output_type": "execute_result"
    },
    {
     "data": {
      "text/plain": [
       "\n",
       "\tShapiro-Wilk normality test\n",
       "\n",
       "data:  normal[nxf1 == \"C\"]\n",
       "W = 0.85741, p-value = 0.1805\n"
      ]
     },
     "execution_count": 16,
     "metadata": {},
     "output_type": "execute_result"
    },
    {
     "data": {
      "text/plain": [
       "\n",
       "\tWilcoxon rank sum test\n",
       "\n",
       "data:  normal[nxf1 == \"C\"] and normal[nxf1 == \"B\"]\n",
       "W = 30, p-value = 0.03247\n",
       "alternative hypothesis: true location shift is greater than 0\n"
      ]
     },
     "execution_count": 16,
     "metadata": {},
     "output_type": "execute_result"
    }
   ],
   "source": [
    "b6<-read.table(\"adamts_B6.txt\", header=T)\n",
    "attach(b6)\n",
    "names(b6)\n",
    "shapiro.test(normal[nxf1=='B']) #shapiro test on B alleles\n",
    "shapiro.test(normal[nxf1=='C']) #shapiro test on C alleles"
   ]
  },
  {
   "cell_type": "raw",
   "metadata": {},
   "source": [
    "Since Shapiro-test gave a p-value of 0.0008452 for B (which supports the alternate hypothesis that the data isn't normally distributed), I would do a non-parametric wilcox test on B6. Test statistic would be W - which is based of median of the samples. \n",
    "H0: Expression of gene with both B and C alleles of Nxf1 is the same \n",
    "H1: Expression of gene with C allele of Nxf1 is more than that in B allele"
   ]
  },
  {
   "cell_type": "code",
   "execution_count": 17,
   "metadata": {
    "collapsed": false
   },
   "outputs": [
    {
     "data": {
      "text/plain": [
       "\n",
       "\tWilcoxon rank sum test\n",
       "\n",
       "data:  normal[nxf1 == \"C\"] and normal[nxf1 == \"B\"]\n",
       "W = 30, p-value = 0.03247\n",
       "alternative hypothesis: true location shift is greater than 0\n"
      ]
     },
     "execution_count": 17,
     "metadata": {},
     "output_type": "execute_result"
    }
   ],
   "source": [
    "wilcox.test(normal[nxf1=='C'], normal[nxf1=='B'], alternative=\"greater\")"
   ]
  },
  {
   "cell_type": "raw",
   "metadata": {},
   "source": [
    "p-value is less that 0.05 which suggests that there is significant difference between expression of gene in B and C alleles and C shows greater expression. "
   ]
  },
  {
   "cell_type": "raw",
   "metadata": {},
   "source": [
    "Answer 3: My first bet would again be to use mean of expression levels in Nxf1 B (Ub) and C (Uc) alleles as the test statistic by doing a t-test. But we need to check if the data is normally distributed before we can pick a test-statistic."
   ]
  },
  {
   "cell_type": "code",
   "execution_count": 20,
   "metadata": {
    "collapsed": false
   },
   "outputs": [
    {
     "name": "stderr",
     "output_type": "stream",
     "text": [
      "The following objects are masked from f2 (pos = 3):\n",
      "\n",
      "    cohort.f2, id.f2, normal.f2, nxf1.f2, raw.f2\n",
      "\n",
      "The following objects are masked from f2 (pos = 4):\n",
      "\n",
      "    cohort.f2, id.f2, normal.f2, nxf1.f2, raw.f2\n",
      "\n",
      "The following objects are masked from f3 (pos = 9):\n",
      "\n",
      "    cohort.f2, id.f2, normal.f2, nxf1.f2, raw.f2\n",
      "\n",
      "The following objects are masked from f3 (pos = 10):\n",
      "\n",
      "    cohort.f2, id.f2, normal.f2, nxf1.f2, raw.f2\n",
      "\n",
      "The following objects are masked from f3 (pos = 11):\n",
      "\n",
      "    cohort.f2, id.f2, normal.f2, nxf1.f2, raw.f2\n",
      "\n",
      "The following objects are masked from f3 (pos = 12):\n",
      "\n",
      "    cohort.f2, id.f2, normal.f2, nxf1.f2, raw.f2\n",
      "\n"
     ]
    },
    {
     "data": {
      "text/html": [
       "<ol class=list-inline>\n",
       "\t<li>'id.f2'</li>\n",
       "\t<li>'nxf1.f2'</li>\n",
       "\t<li>'raw.f2'</li>\n",
       "\t<li>'normal.f2'</li>\n",
       "\t<li>'cohort.f2'</li>\n",
       "</ol>\n"
      ],
      "text/latex": [
       "\\begin{enumerate*}\n",
       "\\item 'id.f2'\n",
       "\\item 'nxf1.f2'\n",
       "\\item 'raw.f2'\n",
       "\\item 'normal.f2'\n",
       "\\item 'cohort.f2'\n",
       "\\end{enumerate*}\n"
      ],
      "text/markdown": [
       "1. 'id.f2'\n",
       "2. 'nxf1.f2'\n",
       "3. 'raw.f2'\n",
       "4. 'normal.f2'\n",
       "5. 'cohort.f2'\n",
       "\n",
       "\n"
      ],
      "text/plain": [
       "[1] \"id.f2\"     \"nxf1.f2\"   \"raw.f2\"    \"normal.f2\" \"cohort.f2\""
      ]
     },
     "execution_count": 20,
     "metadata": {},
     "output_type": "execute_result"
    },
    {
     "data": {
      "text/plain": [
       "\n",
       "\tShapiro-Wilk normality test\n",
       "\n",
       "data:  normal.f2[nxf1.f2 == \"B\"]\n",
       "W = 0.70643, p-value = 9.494e-05\n"
      ]
     },
     "execution_count": 20,
     "metadata": {},
     "output_type": "execute_result"
    },
    {
     "data": {
      "text/plain": [
       "\n",
       "\tShapiro-Wilk normality test\n",
       "\n",
       "data:  normal.f2[nxf1.f2 == \"C\"]\n",
       "W = 0.62012, p-value = 0.0001587\n"
      ]
     },
     "execution_count": 20,
     "metadata": {},
     "output_type": "execute_result"
    }
   ],
   "source": [
    "f2= read.table(\"adamts_balbF2.txt\", header=T)\n",
    "detach(b6)\n",
    "attach(f2)\n",
    "names(f2)\n",
    "f2[31,2]=\"C\" #making heterozygous as \"C\" allele\n",
    "shapiro.test(normal.f2[nxf1.f2=='B']) #test if C is normally distributed\n",
    "shapiro.test(normal.f2[nxf1.f2=='C']) #test if C is normally distributed\n"
   ]
  },
  {
   "cell_type": "raw",
   "metadata": {},
   "source": [
    "Since the p-value for both alleles is <0.05, this supports alternate hypothesis that the data isn't normally distributed and we cannot do a t-test. We would do a Wilcoxon two sample test a.k.a. Mann-Whitney test. Test statistic is again W, which is based of median of the samples. \n",
    "I would test the hypotheses that-\n",
    "H0: Expression of gene with both B and C alleles of Nxf1 is the same \n",
    "H1: Expression of gene with C allele of Nxf1 is more than that in B allele"
   ]
  },
  {
   "cell_type": "code",
   "execution_count": 21,
   "metadata": {
    "collapsed": false
   },
   "outputs": [
    {
     "data": {
      "text/plain": [
       "\n",
       "\tWilcoxon rank sum test\n",
       "\n",
       "data:  normal.f2[nxf1.f2 == \"C\"] and normal.f2[nxf1.f2 == \"B\"]\n",
       "W = 184, p-value = 0.0003972\n",
       "alternative hypothesis: true location shift is greater than 0\n"
      ]
     },
     "execution_count": 21,
     "metadata": {},
     "output_type": "execute_result"
    }
   ],
   "source": [
    "wilcox.test(normal.f2[nxf1.f2=='C'], normal.f2[nxf1.f2=='B'], alternative=\"greater\")"
   ]
  },
  {
   "cell_type": "raw",
   "metadata": {},
   "source": [
    "Since, p-value (0.0003972) comes out to be less than 0.05, our alternate hypothesis is supported. Which means, according to Mann-Whitney test, expression of gene 8 with C allele is higher than that with B allele. "
   ]
  },
  {
   "cell_type": "code",
   "execution_count": 11,
   "metadata": {
    "collapsed": false
   },
   "outputs": [
    {
     "name": "stderr",
     "output_type": "stream",
     "text": [
      "The following objects are masked from f3 (pos = 3):\n",
      "\n",
      "    cohort.f2, id.f2, normal.f2, nxf1.f2, raw.f2\n",
      "\n",
      "The following objects are masked from f3 (pos = 4):\n",
      "\n",
      "    cohort.f2, id.f2, normal.f2, nxf1.f2, raw.f2\n",
      "\n",
      "The following objects are masked from f3 (pos = 5):\n",
      "\n",
      "    cohort.f2, id.f2, normal.f2, nxf1.f2, raw.f2\n",
      "\n"
     ]
    },
    {
     "data": {
      "text/html": [
       "<ol class=list-inline>\n",
       "\t<li>'id.f2'</li>\n",
       "\t<li>'nxf1.f2'</li>\n",
       "\t<li>'raw.f2'</li>\n",
       "\t<li>'normal.f2'</li>\n",
       "\t<li>'cohort.f2'</li>\n",
       "</ol>\n"
      ],
      "text/latex": [
       "\\begin{enumerate*}\n",
       "\\item 'id.f2'\n",
       "\\item 'nxf1.f2'\n",
       "\\item 'raw.f2'\n",
       "\\item 'normal.f2'\n",
       "\\item 'cohort.f2'\n",
       "\\end{enumerate*}\n"
      ],
      "text/markdown": [
       "1. 'id.f2'\n",
       "2. 'nxf1.f2'\n",
       "3. 'raw.f2'\n",
       "4. 'normal.f2'\n",
       "5. 'cohort.f2'\n",
       "\n",
       "\n"
      ],
      "text/plain": [
       "[1] \"id.f2\"     \"nxf1.f2\"   \"raw.f2\"    \"normal.f2\" \"cohort.f2\""
      ]
     },
     "execution_count": 11,
     "metadata": {},
     "output_type": "execute_result"
    },
    {
     "name": "stderr",
     "output_type": "stream",
     "text": [
      "Warning message:\n",
      "In normal.f2[nxf1.f2 == \"C\"] - normal.f2[nxf1.f2 == \"B\"]: longer object length is not a multiple of shorter object length"
     ]
    },
    {
     "data": {
      "text/plain": [
       "\n",
       "\tShapiro-Wilk normality test\n",
       "\n",
       "data:  normal.f2[nxf1.f2 == \"C\"] - normal.f2[nxf1.f2 == \"B\"]\n",
       "W = 0.81146, p-value = 0.002215\n"
      ]
     },
     "execution_count": 11,
     "metadata": {},
     "output_type": "execute_result"
    },
    {
     "data": {
      "text/plain": [
       "\n",
       "\tWilcoxon rank sum test\n",
       "\n",
       "data:  normal.f2[nxf1.f2 == \"C\"] and normal.f2[nxf1.f2 == \"B\"]\n",
       "W = 184, p-value = 0.0003972\n",
       "alternative hypothesis: true location shift is greater than 0\n"
      ]
     },
     "execution_count": 11,
     "metadata": {},
     "output_type": "execute_result"
    }
   ],
   "source": [
    "#If we remove the heterozygous sample, our result is as follows: \n",
    "f3=f2[-31,] #removing the last row which had heterzygous allele\n",
    "detach(f2)\n",
    "attach(f3)\n",
    "names(f3)\n",
    "shapiro.test(normal.f2[nxf1.f2=='C']-normal.f2[nxf1.f2=='B']) #normal distribution check\n",
    "wilcox.test(normal.f2[nxf1.f2=='C'], normal.f2[nxf1.f2=='B'], alternative=\"greater\")"
   ]
  },
  {
   "cell_type": "raw",
   "metadata": {},
   "source": [
    "There was no change in the answers with or without the heterozygous entry."
   ]
  }
 ],
 "metadata": {
  "kernelspec": {
   "display_name": "R",
   "language": "R",
   "name": "ir"
  },
  "language_info": {
   "codemirror_mode": "r",
   "file_extension": ".r",
   "mimetype": "text/x-r-source",
   "name": "R",
   "pygments_lexer": "r",
   "version": "3.2.2"
  }
 },
 "nbformat": 4,
 "nbformat_minor": 0
}
