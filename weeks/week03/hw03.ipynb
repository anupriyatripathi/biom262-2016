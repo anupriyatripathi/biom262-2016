{
 "cells": [
  {
   "cell_type": "raw",
   "metadata": {},
   "source": [
    "Answer 1: From previous data, we have evidence that the “C” allele of Nxf1 allowed a higher level of target gene RNA expression than the “B” allele in 6 out of 7 cases. In order to check if this correlation holds true for the 8th gen as well, we need to perform a one-sided test such that the null hypothesis would be- There is no correlation between Nxf1 allele and expression of 8th gene and alternate hypothesis would be- \"C\" allele of Nxf1 is correlated with higher expression of 8th gene as compared to \"B\" allele."
   ]
  },
  {
   "cell_type": "raw",
   "metadata": {},
   "source": [
    "Answer 2: I would use the mean of expression level of gene with \"B\" allele of Nxf1 (Ub) and \"C\" allele of Nxf1 (Uc) as my test-statistic for this test. This is because the overall increase or decrease in expression can be represented by increase or decrease in  mean in the presence of a particular allele of Nxf1.\n",
    "\n",
    "Null Hypothesis: Ub=Uc or Ub-Uc=0\n",
    "Alternate hypothesis: Ub<Uc or Ub-Uc<0"
   ]
  },
  {
   "cell_type": "code",
   "execution_count": null,
   "metadata": {
    "collapsed": true
   },
   "outputs": [],
   "source": [
    "b6<-read.table(\"adamts_B6.txt\", header=T)\n",
    "attach(b6)\n",
    "\n"
   ]
  }
 ],
 "metadata": {
  "kernelspec": {
   "display_name": "R",
   "language": "R",
   "name": "ir"
  },
  "language_info": {
   "codemirror_mode": "r",
   "file_extension": ".r",
   "mimetype": "text/x-r-source",
   "name": "R",
   "pygments_lexer": "r",
   "version": "3.2.2"
  }
 },
 "nbformat": 4,
 "nbformat_minor": 0
}
