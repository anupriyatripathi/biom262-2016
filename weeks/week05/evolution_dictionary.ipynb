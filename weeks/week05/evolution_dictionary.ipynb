{
 "cells": [
  {
   "cell_type": "code",
   "execution_count": 5,
   "metadata": {
    "collapsed": false
   },
   "outputs": [
    {
     "name": "stdout",
     "output_type": "stream",
     "text": [
      "0 \t 45 \t ['kxlvugb', 'qn', 'cdcymjf', 'mmwhv', 'ajngx', 'exjoif', 'mr', 'tml', 'eeglq', 'wm', 'uvxncaska']\n"
     ]
    },
    {
     "ename": "TypeError",
     "evalue": "'list' object is not callable",
     "output_type": "error",
     "traceback": [
      "\u001b[1;31m---------------------------------------------------------------------------\u001b[0m",
      "\u001b[1;31mTypeError\u001b[0m                                 Traceback (most recent call last)",
      "\u001b[1;32m<ipython-input-5-e958dd46dea5>\u001b[0m in \u001b[0;36m<module>\u001b[1;34m()\u001b[0m\n\u001b[0;32m     77\u001b[0m \u001b[0mtarget_list\u001b[0m\u001b[1;33m=\u001b[0m\u001b[0mtarget_ori\u001b[0m\u001b[1;33m.\u001b[0m\u001b[0msplit\u001b[0m\u001b[1;33m(\u001b[0m\u001b[1;34m' '\u001b[0m\u001b[1;33m)\u001b[0m\u001b[1;33m\u001b[0m\u001b[0m\n\u001b[0;32m     78\u001b[0m \u001b[1;33m\u001b[0m\u001b[0m\n\u001b[1;32m---> 79\u001b[1;33m \u001b[0mevolve\u001b[0m\u001b[1;33m(\u001b[0m\u001b[0mtarget_list\u001b[0m\u001b[1;33m)\u001b[0m\u001b[1;33m\u001b[0m\u001b[0m\n\u001b[0m\u001b[0;32m     80\u001b[0m \u001b[1;33m\u001b[0m\u001b[0m\n\u001b[0;32m     81\u001b[0m \u001b[1;31m#f=iter(target_list)\u001b[0m\u001b[1;33m\u001b[0m\u001b[1;33m\u001b[0m\u001b[0m\n",
      "\u001b[1;32m<ipython-input-5-e958dd46dea5>\u001b[0m in \u001b[0;36mevolve\u001b[1;34m(target_list, num, mutation_rate, generation)\u001b[0m\n\u001b[0;32m     71\u001b[0m         \u001b[1;31m#else:\u001b[0m\u001b[1;33m\u001b[0m\u001b[1;33m\u001b[0m\u001b[0m\n\u001b[0;32m     72\u001b[0m             \u001b[1;31m#evolve(next(f))\u001b[0m\u001b[1;33m\u001b[0m\u001b[1;33m\u001b[0m\u001b[0m\n\u001b[1;32m---> 73\u001b[1;33m         \u001b[0mpopulation\u001b[0m \u001b[1;33m=\u001b[0m \u001b[0mbreed\u001b[0m\u001b[1;33m(\u001b[0m\u001b[0mbest_seq\u001b[0m\u001b[1;33m,\u001b[0m \u001b[0mnum\u001b[0m\u001b[1;33m,\u001b[0m \u001b[0mmutation_rate\u001b[0m\u001b[1;33m)\u001b[0m\u001b[1;33m\u001b[0m\u001b[0m\n\u001b[0m\u001b[0;32m     74\u001b[0m         \u001b[0mgeneration\u001b[0m \u001b[1;33m+=\u001b[0m \u001b[1;36m1\u001b[0m\u001b[1;33m\u001b[0m\u001b[0m\n\u001b[0;32m     75\u001b[0m \u001b[1;33m\u001b[0m\u001b[0m\n",
      "\u001b[1;32m<ipython-input-5-e958dd46dea5>\u001b[0m in \u001b[0;36mbreed\u001b[1;34m(parent, num, mutation_rate)\u001b[0m\n\u001b[0;32m     42\u001b[0m         \u001b[0mcurr\u001b[0m \u001b[1;33m=\u001b[0m \u001b[0mparent\u001b[0m \u001b[1;31m#best_seq from previous population\u001b[0m\u001b[1;33m\u001b[0m\u001b[0m\n\u001b[0;32m     43\u001b[0m         \u001b[1;32mfor\u001b[0m \u001b[0mpos\u001b[0m \u001b[1;32min\u001b[0m \u001b[0mrange\u001b[0m\u001b[1;33m(\u001b[0m\u001b[0mlength\u001b[0m\u001b[1;33m)\u001b[0m\u001b[1;33m:\u001b[0m\u001b[1;31m#for each element of parent\u001b[0m\u001b[1;33m\u001b[0m\u001b[0m\n\u001b[1;32m---> 44\u001b[1;33m             \u001b[1;32mfor\u001b[0m \u001b[0mpos2\u001b[0m \u001b[1;32min\u001b[0m \u001b[0mrange\u001b[0m\u001b[1;33m(\u001b[0m\u001b[0mlen\u001b[0m\u001b[1;33m(\u001b[0m\u001b[0mparent\u001b[0m\u001b[1;33m(\u001b[0m\u001b[0mpos\u001b[0m\u001b[1;33m)\u001b[0m\u001b[1;33m)\u001b[0m\u001b[1;33m)\u001b[0m\u001b[1;33m:\u001b[0m\u001b[1;33m\u001b[0m\u001b[0m\n\u001b[0m\u001b[0;32m     45\u001b[0m                 \u001b[1;32mif\u001b[0m \u001b[0mrandom\u001b[0m\u001b[1;33m(\u001b[0m\u001b[1;33m)\u001b[0m \u001b[1;33m<=\u001b[0m \u001b[0mmutation_rate\u001b[0m\u001b[1;33m:\u001b[0m \u001b[0mcurr\u001b[0m\u001b[1;33m[\u001b[0m\u001b[0mpos\u001b[0m\u001b[1;33m]\u001b[0m\u001b[1;33m[\u001b[0m\u001b[0mpos2\u001b[0m\u001b[1;33m]\u001b[0m \u001b[1;33m=\u001b[0m \u001b[0mchoice\u001b[0m\u001b[1;33m(\u001b[0m\u001b[0mALPHABET\u001b[0m\u001b[1;33m)\u001b[0m \u001b[1;31m#randomly introducing mutations 0.01% times as range of random is [0,1)]\u001b[0m\u001b[1;33m\u001b[0m\u001b[0m\n\u001b[0;32m     46\u001b[0m         \u001b[0mresult\u001b[0m\u001b[1;33m.\u001b[0m\u001b[0mappend\u001b[0m\u001b[1;33m(\u001b[0m\u001b[0mcurr\u001b[0m\u001b[1;33m)\u001b[0m\u001b[1;33m\u001b[0m\u001b[0m\n",
      "\u001b[1;31mTypeError\u001b[0m: 'list' object is not callable"
     ]
    }
   ],
   "source": [
    "#making a 'num' sized seed population using target and initialize()\n",
    "#taking the best_seq among them\n",
    "#using this iteratively to make new populations with a mutation rate of 0.01\n",
    "#selecting the best_seq among the new populations to converge to the target\n",
    "\n",
    "#!/usr/bin/env python # ask your system where python\n",
    "from random import choice, random\n",
    "\n",
    "ALPHABET= 'abcdefghijklmnopqrstuvwxyz'  #26 no space options to choose from \n",
    "\n",
    "def initialize(parent, num):\n",
    "    \"\"\"Returns num random sequences(a list containing num lists such that each list is a list of random chars for each word) the length of parent\"\"\"\n",
    "    return [[[choice(ALPHABET) for i in range(len(word))] for word in parent] for seq in range(num)] #left-most loop is the outer-most\n",
    "            \n",
    "def score(seq, target):\n",
    "    \"\"\"Returns number of differences between seq and target.\"\"\"\n",
    "    return sum([sum(map(int, [c != d for c,d in zip(a,b)])) for a, b in zip(seq, target)])\n",
    "#supercool: zip() function zips the corresponding values in two iterables in a tupule so that you dont have to reference each in a for loop or something\n",
    "\n",
    "#population= initialize(\"abcde\",10)\n",
    "#print(population)\n",
    "\n",
    "#a=[score(seq, \"abcde\") for seq in population]\n",
    "#print(a)\n",
    "    \n",
    "def select(population, scores):\n",
    "    \"\"\"Returns best sequence and score from population.\"\"\"\n",
    "    scored = list(zip(scores, population)) #added list function otherwise score looks like \"<zip object at 0x2b287c727308>\"\n",
    "    #print(scored)\n",
    "    scored.sort()\n",
    "    #print(scored)\n",
    "    return scored[0]\n",
    "\n",
    "#best_seq=select(population, a)\n",
    "\n",
    "def breed(parent, num, mutation_rate):\n",
    "    \"\"\"Returns num copies of parent with mutation_rate changes per letter.\"\"\"\n",
    "    result = []\n",
    "    length = len(parent)\n",
    "    #overall this segment is taking in the best_seq and adding mutations with the rate of 0.01 to it to generate another population\n",
    "    for seq in range(num): #for each individual in a population(?)-runs the number of times as num i.e. population size\n",
    "        curr = parent #best_seq from previous population\n",
    "        for pos in range(length):#for each element of parent\n",
    "            for pos2 in range(len(parent[pos])):\n",
    "                if random() <= mutation_rate: curr[pos][pos2] = choice(ALPHABET) #randomly introducing mutations 0.01% times as range of random is [0,1)]\n",
    "        result.append(curr)\n",
    "    return result\n",
    "    #print(result)\n",
    "  #m\n",
    "\n",
    "def evolve(target_list, num=10, mutation_rate=0.05, generation=0): # num is the population size\n",
    "    \"\"\"Evolves random sequences towards seed, using ALPHABET.\"\"\"\n",
    "    #generating the FIRST population of num size of random outputs which are the same size as target\n",
    "    population = initialize(target_list, num) \n",
    "    #population_list=[]\n",
    "    #population score=[]\n",
    "    while 1:\n",
    "        #making a list of number of differences between each 1)random sequence generated by initalize() and 2)target\n",
    "        scores = [score(seq, target_list) for seq in population] \n",
    "        #sorting the scores and seqs in population to find the best match\n",
    "        best_score, best_seq = select(population, scores)\n",
    "        #printing generation, best score for that generation and the sequence  after joining the list using ''\n",
    "        #population_list.append(best_seq)\n",
    "        #population_score.append(best_score) \n",
    "        #if len(population_list)==len(target_list):\n",
    "        print(generation, '\\t', best_score, '\\t', [''.join(word) for word in best_seq])\n",
    "        if best_score == 0: break #if no difference between best_seq and target, break out of the loop\n",
    "        #new parent is the best_seq found using the previous population. The first population was generated using target.\n",
    "        #else:\n",
    "            #evolve(next(f))\n",
    "        population = breed(best_seq, num, mutation_rate)\n",
    "        generation += 1\n",
    "\n",
    "target_ori='nothing in biology makes sense except in the light of evolution'\n",
    "target_list=target_ori.split(' ')\n",
    "\n",
    "evolve(target_list)\n",
    "\n",
    "#f=iter(target_list)\n",
    "#evolve(next(f))\n",
    "#for target in target_list:\n",
    "    #evolve(target)"
   ]
  },
  {
   "cell_type": "code",
   "execution_count": 9,
   "metadata": {
    "collapsed": false
   },
   "outputs": [
    {
     "name": "stdout",
     "output_type": "stream",
     "text": [
      "['nothing', 'in', 'biology', 'makes', 'sense', 'except', 'in', 'the', 'light', 'of', 'evolution']\n"
     ]
    }
   ],
   "source": [
    "target_ori='nothing in biology makes sense except in the light of evolution'\n",
    "target=target_ori.split(' ')\n",
    "\n",
    "print(target)"
   ]
  },
  {
   "cell_type": "code",
   "execution_count": null,
   "metadata": {
    "collapsed": true
   },
   "outputs": [],
   "source": []
  }
 ],
 "metadata": {
  "kernelspec": {
   "display_name": "Python 3",
   "language": "python",
   "name": "python3"
  },
  "language_info": {
   "codemirror_mode": {
    "name": "ipython",
    "version": 3
   },
   "file_extension": ".py",
   "mimetype": "text/x-python",
   "name": "python",
   "nbconvert_exporter": "python",
   "pygments_lexer": "ipython3",
   "version": "3.5.1"
  }
 },
 "nbformat": 4,
 "nbformat_minor": 0
}
