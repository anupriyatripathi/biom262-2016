{
 "cells": [
  {
   "cell_type": "code",
   "execution_count": 9,
   "metadata": {
    "collapsed": false
   },
   "outputs": [
    {
     "name": "stderr",
     "output_type": "stream",
     "text": [
      "The following objects are masked from hot (pos = 3):\n",
      "\n",
      "    animal, athermal, bathwater, coldshower, hotsix, lukewarm, mild1,\n",
      "    pair, tepid\n",
      "\n",
      "The following objects are masked from hot (pos = 4):\n",
      "\n",
      "    animal, athermal, bathwater, coldshower, hotsix, lukewarm, mild1,\n",
      "    pair, tepid\n",
      "\n"
     ]
    },
    {
     "data": {
      "text/plain": [
       "\n",
       "\tShapiro-Wilk normality test\n",
       "\n",
       "data:  lukewarm[hotsix == \"+\"] - lukewarm[hotsix == \"-\"]\n",
       "W = 0.93038, p-value = 0.4147\n"
      ]
     },
     "execution_count": 9,
     "metadata": {},
     "output_type": "execute_result"
    },
    {
     "data": {
      "text/plain": [
       "\n",
       "\tShapiro-Wilk normality test\n",
       "\n",
       "data:  tepid[hotsix == \"+\"] - tepid[hotsix == \"-\"]\n",
       "W = 0.95915, p-value = 0.7611\n"
      ]
     },
     "execution_count": 9,
     "metadata": {},
     "output_type": "execute_result"
    },
    {
     "data": {
      "text/plain": [
       "\n",
       "\tShapiro-Wilk normality test\n",
       "\n",
       "data:  mild1[hotsix == \"+\"] - mild1[hotsix == \"-\"]\n",
       "W = 0.86416, p-value = 0.06518\n"
      ]
     },
     "execution_count": 9,
     "metadata": {},
     "output_type": "execute_result"
    },
    {
     "data": {
      "text/plain": [
       "\n",
       "\tShapiro-Wilk normality test\n",
       "\n",
       "data:  athermal[hotsix == \"+\"] - athermal[hotsix == \"-\"]\n",
       "W = 0.81042, p-value = 0.0129\n"
      ]
     },
     "execution_count": 9,
     "metadata": {},
     "output_type": "execute_result"
    },
    {
     "data": {
      "text/plain": [
       "\n",
       "\tShapiro-Wilk normality test\n",
       "\n",
       "data:  bathwater[hotsix == \"+\"] - bathwater[hotsix == \"-\"]\n",
       "W = 0.97651, p-value = 0.9437\n"
      ]
     },
     "execution_count": 9,
     "metadata": {},
     "output_type": "execute_result"
    },
    {
     "data": {
      "text/plain": [
       "\n",
       "\tShapiro-Wilk normality test\n",
       "\n",
       "data:  coldshower[hotsix == \"+\"] - coldshower[hotsix == \"-\"]\n",
       "W = 0.92912, p-value = 0.402\n"
      ]
     },
     "execution_count": 9,
     "metadata": {},
     "output_type": "execute_result"
    }
   ],
   "source": [
    "hot=read.table(\"~/code/biom262-2016/weeks/week03/hot.txt\", header=T)\n",
    "attach(hot)\n",
    "shapiro.test(lukewarm[hotsix=='+']-lukewarm[hotsix=='-'])\n",
    "shapiro.test(tepid[hotsix=='+']-tepid[hotsix=='-'])\n",
    "shapiro.test(mild1[hotsix=='+']-mild1[hotsix=='-'])\n",
    "shapiro.test(athermal[hotsix=='+']-athermal[hotsix=='-'])\n",
    "shapiro.test(bathwater[hotsix=='+']-bathwater[hotsix=='-'])\n",
    "shapiro.test(coldshower[hotsix=='+']-coldshower[hotsix=='-'])"
   ]
  },
  {
   "cell_type": "code",
   "execution_count": null,
   "metadata": {
    "collapsed": true
   },
   "outputs": [],
   "source": []
  },
  {
   "cell_type": "code",
   "execution_count": null,
   "metadata": {
    "collapsed": true
   },
   "outputs": [],
   "source": []
  }
 ],
 "metadata": {
  "kernelspec": {
   "display_name": "R",
   "language": "R",
   "name": "ir"
  },
  "language_info": {
   "codemirror_mode": "r",
   "file_extension": ".r",
   "mimetype": "text/x-r-source",
   "name": "R",
   "pygments_lexer": "r",
   "version": "3.2.2"
  }
 },
 "nbformat": 4,
 "nbformat_minor": 0
}
